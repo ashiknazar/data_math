{
 "cells": [
  {
   "cell_type": "markdown",
   "metadata": {},
   "source": [
    "$len1=10m$<br>\n",
    "$len2=15m$<br>\n",
    "\n"
   ]
  },
  {
   "cell_type": "markdown",
   "metadata": {},
   "source": [
    "let we perform an operation like area calculation\n",
    "- $area=10m*15m$<br>\n",
    "    $=150m^2$ \n",
    "- area  resulted in $m^2$ units and length was in $m$ units which cant be compared directly.\n",
    "___"
   ]
  },
  {
   "cell_type": "markdown",
   "metadata": {},
   "source": [
    "- if we have a data which is in $m$ as UNITS,when we perform variance calculation the result will be in $m^2$ UNITS. which mean we cant compare data and variance because both are of different units.\n",
    "- $data =x.m$\n",
    "-  $variance=x.m^2$\n",
    "\n",
    "- but standard deviation is in a unit that is same as data is ,so is intuitive and iterpretable."
   ]
  },
  {
   "cell_type": "markdown",
   "metadata": {},
   "source": []
  }
 ],
 "metadata": {
  "language_info": {
   "name": "python"
  }
 },
 "nbformat": 4,
 "nbformat_minor": 2
}
