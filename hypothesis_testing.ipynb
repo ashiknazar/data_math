{
 "cells": [
  {
   "cell_type": "markdown",
   "metadata": {},
   "source": [
    "- Hypothesis testing is a statistical method used to test an assumption or claim (hypothesis) about a population parameter. "
   ]
  },
  {
   "cell_type": "markdown",
   "metadata": {},
   "source": [
    "##### steps\n",
    "- 1. State the Hypotheses:\n",
    "      - Null Hypothesis ($H_0$): This is the default assumption, often stating that there is no effect or no difference.\n",
    "      - Alternative Hypothesis($H_A$ OR $H_1$): This is the hypothesis we aim to support, suggesting that there is an effect or a difference.\n",
    "___"
   ]
  },
  {
   "cell_type": "markdown",
   "metadata": {},
   "source": []
  },
  {
   "cell_type": "markdown",
   "metadata": {},
   "source": [
    "- 2.  The significance level, often denoted as 𝛼 ,is a threshold used in hypothesis testing to determine whether the results of a statistical test are statistically significant.\n",
    " It represents the probability of making a Type I error, which occurs when you incorrectly reject a true null hypothesis (i.e., conclude that there is an effect when there is none).\n",
    "\n",
    "\n"
   ]
  },
  {
   "cell_type": "markdown",
   "metadata": {},
   "source": [
    "- Key Points about the Significance Level (α): The significance level is the probability of rejecting the null hypothesis when it is actually true. It sets the criterion for how extreme the data must be to reject $𝐻_0$. The lower the 𝛼, the stronger the evidence required to reject the null hypothesis.\n",
    "- For example, 𝛼=0.05 means you are willing to accept a 5% chance of incorrectly rejecting the null hypothesis (i.e., making a Type I error).\n"
   ]
  },
  {
   "cell_type": "markdown",
   "metadata": {},
   "source": [
    "##### Interpretation:\n",
    "- If the p-value (probability value) from the hypothesis test is less than 𝛼, you reject the null hypothesis ($𝐻_0$) and conclude that there is statistically significant evidence for the alternative hypothesis ($𝐻_𝐴$).\n",
    "- If the p-value is greater than or equal to 𝛼, you fail to reject the null hypothesis. This means you do not have enough evidence to support $H_A$."
   ]
  },
  {
   "cell_type": "markdown",
   "metadata": {},
   "source": [
    "___"
   ]
  },
  {
   "cell_type": "markdown",
   "metadata": {},
   "source": [
    "3. Select the Test Statistic: Depending on the nature of the data (e.g., sample size, known population variance), you may use different test statistics. "
   ]
  },
  {
   "cell_type": "markdown",
   "metadata": {},
   "source": [
    "- A test statistic is a standardized value used in statistical hypothesis testing to determine whether to reject the null hypothesis. \n",
    "- It quantifies how far the sample data deviates from what is expected under the null hypothesis. \n",
    "-  Based on the type of test being conducted (e.g., for means, proportions, or variances), the test statistic will follow a particular distribution (e.g., t-distribution, z-distribution, chi-square distribution)."
   ]
  },
  {
   "cell_type": "markdown",
   "metadata": {},
   "source": [
    "## 1. Z-Statistic (Z-Test)\n",
    "Used when the **population standard deviation** is known, and the sample size is large (usually \\( n > 30 \\)).\n",
    "\n",
    "### Formula:\n",
    "$$\n",
    "Z = \\frac{\\bar{x} - \\mu}{\\frac{\\sigma}{\\sqrt{n}}}\n",
    "$$\n",
    "\n",
    "where:\n",
    "- \\( \\bar{x} \\) = sample mean\n",
    "- \\( \\mu \\) = population mean\n",
    "- \\( \\sigma \\) = population standard deviation\n",
    "- \\( n \\) = sample size\n",
    "\n",
    "### When to Use:\n",
    "- Known population standard deviation.\n",
    "- Large sample size (typically \\( n > 30 \\)).\n",
    "\n",
    "---\n",
    "\n",
    "## 2. T-Statistic (T-Test)\n",
    "Used when the **population standard deviation** is unknown and the sample size is small (usually \\( n < 30 \\)).\n",
    "\n",
    "### Formula:\n",
    "$$\n",
    "t = \\frac{\\bar{x} - \\mu}{\\frac{s}{\\sqrt{n}}}\n",
    "$$\n",
    "\n",
    "where:\n",
    "- \\( \\bar{x} \\) = sample mean\n",
    "- \\( \\mu \\) = population mean\n",
    "- \\( s \\) = sample standard deviation\n",
    "- \\( n \\) = sample size\n",
    "\n",
    "### When to Use:\n",
    "- Unknown population standard deviation.\n",
    "- Small sample size (typically \\( n < 30 \\)).\n",
    "\n",
    "---\n",
    "\n",
    "## 3. Chi-Square Statistic (Chi-Square Test)\n",
    "Used for categorical data in tests like **goodness-of-fit** or **independence**.\n",
    "\n",
    "### Formula for Goodness-of-Fit:\n",
    "$$\n",
    "\\chi^2 = \\sum \\frac{(O_i - E_i)^2}{E_i}\n",
    "$$\n",
    "\n",
    "where:\n",
    "- \\( O_i \\) = observed frequency\n",
    "- \\( E_i \\) = expected frequency\n",
    "\n",
    "### When to Use:\n",
    "- Categorical data analysis (e.g., testing if data follows a specific distribution or testing independence in contingency tables).\n",
    "\n",
    "---\n",
    "\n",
    "## 4. F-Statistic (F-Test)\n",
    "Used to compare variances between two or more groups, often used in **ANOVA** (Analysis of Variance).\n",
    "\n",
    "### Formula:\n",
    "$$\n",
    "F = \\frac{\\text{Variance between groups}}{\\text{Variance within groups}}\n",
    "$$\n",
    "\n",
    "### When to Use:\n",
    "- Comparing the variances of two or more groups.\n",
    "- Used in **ANOVA** for comparing means across multiple groups.\n",
    "\n",
    "---\n",
    "\n",
    "## 5. Proportion Z-Statistic (Z-Test for Proportions)\n",
    "Used to test hypotheses about **proportions** in a population.\n",
    "\n",
    "### Formula:\n",
    "$$\n",
    "Z = \\frac{\\hat{p} - p_0}{\\sqrt{\\frac{p_0(1 - p_0)}{n}}}\n",
    "$$\n",
    "\n",
    "where:\n",
    "- \\( \\hat{p} \\) = sample proportion\n",
    "- \\( p_0 \\) = population proportion under the null hypothesis\n",
    "- \\( n \\) = sample size\n",
    "\n",
    "### When to Use:\n",
    "- Hypothesis tests involving proportions (e.g., testing whether the proportion of successes in a sample differs from a hypothesized population proportion).\n",
    "\n",
    "---\n",
    "\n",
    "## 6. Mann-Whitney U Statistic (for Non-Parametric Tests)\n",
    "Used when the data does not meet the assumptions for the **t-test** (e.g., when data is ordinal or not normally distributed). It is a non-parametric alternative to the independent samples t-test.\n",
    "\n",
    "### Formula:\n",
    "The calculation is based on ranks and involves comparing the sum of ranks for two independent samples.\n",
    "\n",
    "### When to Use:\n",
    "- Non-parametric alternative to the t-test.\n",
    "- When data does not follow a normal distribution or when working with ordinal data.\n",
    "\n",
    "---\n",
    "\n",
    "## 7. Wilcoxon Signed-Rank Statistic (for Paired Samples)\n",
    "A non-parametric test statistic used for paired data when the assumptions of the paired t-test (normality) are not met.\n",
    "\n",
    "### Formula:\n",
    "Based on the ranks of the differences between pairs of observations.\n",
    "\n",
    "### When to Use:\n",
    "- Non-parametric alternative to the paired t-test.\n",
    "- For comparing two related or paired samples when the data does not meet the normality assumption.\n",
    "\n",
    "---\n",
    "\n",
    "## Summary of When to Use Each Test Statistic:\n",
    "| Test Statistic         | When to Use                                                    |\n",
    "|------------------------|---------------------------------------------------------------|\n",
    "| **Z-Statistic (Z-Test)**| Large sample size (\\(n > 30\\)), known population standard deviation. |\n",
    "| **T-Statistic (T-Test)**| Small sample size (\\(n < 30\\)), unknown population standard deviation. |\n",
    "| **Chi-Square Statistic**| Categorical data, goodness-of-fit, or tests of independence. |\n",
    "| **F-Statistic (F-Test)**| Comparing variances, ANOVA for multiple group comparisons.  |\n",
    "| **Proportion Z-Statistic**| Hypothesis tests for population proportions.               |\n",
    "| **Mann-Whitney U**      | Non-parametric alternative for independent samples.           |\n",
    "| **Wilcoxon Signed-Rank**| Non-parametric alternative for paired data.                  |\n"
   ]
  },
  {
   "cell_type": "markdown",
   "metadata": {},
   "source": []
  },
  {
   "cell_type": "markdown",
   "metadata": {},
   "source": [
    "___\n",
    "___"
   ]
  }
 ],
 "metadata": {
  "language_info": {
   "name": "python"
  }
 },
 "nbformat": 4,
 "nbformat_minor": 2
}
