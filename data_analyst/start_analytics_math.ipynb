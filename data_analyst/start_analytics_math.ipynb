{
 "cells": [
  {
   "cell_type": "markdown",
   "metadata": {},
   "source": [
    "- [Descriptive vs Inferential statistics](../0_descriptive_vs_inferentail_statistics.ipynb)\n",
    "\n",
    "- [Descriptive statistics](../1_descriptive_statistics.ipynb)\n",
    "\n",
    "- [Inferential statistics](../2_inferential_statistics.ipynb)"
   ]
  },
  {
   "cell_type": "markdown",
   "metadata": {},
   "source": []
  }
 ],
 "metadata": {
  "language_info": {
   "name": "python"
  }
 },
 "nbformat": 4,
 "nbformat_minor": 2
}
