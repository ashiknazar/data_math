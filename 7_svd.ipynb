{
 "cells": [
  {
   "cell_type": "markdown",
   "metadata": {},
   "source": [
    "# Singular Value Decomposition (SVD)\n",
    "\n",
    "Singular Value Decomposition (SVD) is a fundamental matrix factorization technique in linear algebra. It decomposes a matrix \\( A \\) into three other matrices: \n",
    "\n",
    "$$\n",
    "A = U \\Sigma V^T\n",
    "$$\n",
    "\n",
    "Where:\n",
    "\n",
    "- \\( A \\) is an \\( m \\times n \\) matrix.\n",
    "- \\( U \\) is an \\( m \\times m \\) orthogonal matrix, whose columns are the left singular vectors of \\( A \\).\n",
    "- \\( \\Sigma \\) is an \\( m \\times n \\) diagonal matrix, where the diagonal entries are the singular values of \\( A \\), sorted in decreasing order.\n",
    "- \\( V^T \\) is an \\( n \\times n \\) orthogonal matrix (the transpose of \\( V \\)), whose columns are the right singular vectors of \\( A \\).\n",
    "\n",
    "### Properties of SVD:\n",
    "\n",
    "1. **Orthogonality**: Both \\( U \\) and \\( V \\) are orthogonal matrices, meaning that:\n",
    "\n",
    "   $$\n",
    "   U^T U = I \\quad \\text{and} \\quad V^T V = I\n",
    "   $$\n",
    "\n",
    "   where \\( I \\) is the identity matrix.\n",
    "\n",
    "2. **Singular values**: The diagonal entries of \\( \\Sigma \\) represent the singular values of the matrix \\( A \\), which are non-negative and ordered in descending order:\n",
    "\n",
    "   $$\n",
    "   \\sigma_1 \\geq \\sigma_2 \\geq \\dots \\geq \\sigma_r \\geq 0\n",
    "   $$\n",
    "\n",
    "3. **Rank**: The rank of matrix \\( A \\) is equal to the number of non-zero singular values.\n",
    "\n",
    "### Applications of SVD:\n",
    "\n",
    "- **Dimensionality Reduction**: In Principal Component Analysis (PCA), SVD is used to reduce the dimensions of large datasets while preserving variance.\n",
    "- **Noise Reduction**: By approximating a matrix using the top singular values, less important information (often noise) can be discarded.\n",
    "- **Data Compression**: SVD is also used in image compression, where a matrix (like an image) is approximated by its singular values.\n",
    "\n",
    "The decomposition allows for better understanding and manipulation of the original matrix, making SVD a powerful tool in various machine learning and data analysis tasks.\n"
   ]
  },
  {
   "cell_type": "markdown",
   "metadata": {},
   "source": []
  }
 ],
 "metadata": {
  "language_info": {
   "name": "python"
  }
 },
 "nbformat": 4,
 "nbformat_minor": 2
}
